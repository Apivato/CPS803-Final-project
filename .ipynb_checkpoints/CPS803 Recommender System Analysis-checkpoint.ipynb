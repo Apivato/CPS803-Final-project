{
 "cells": [
  {
   "cell_type": "markdown",
   "metadata": {},
   "source": [
    "# Movie Recommender System Analysis"
   ]
  },
  {
   "cell_type": "markdown",
   "metadata": {},
   "source": [
    "## Dataset preprocessing steps"
   ]
  },
  {
   "cell_type": "markdown",
   "metadata": {},
   "source": [
    "1. Remove any entries empty values in either the genres, ratings or tags attributes (script1) X\n",
    "2. Categoryze the Genre and tags attribute through categorical bining or multi-classification (script2) \n",
    "3. Split the dataset 80/20 into training and testing set and save them seperately (script3) X\n",
    "4. Keep testing labels seperate for scoring purposes but use testing features for testing"
   ]
  },
  {
   "cell_type": "markdown",
   "metadata": {},
   "source": [
    "the following script will to step one of the data preprocessing"
   ]
  },
  {
   "cell_type": "code",
   "execution_count": 3,
   "metadata": {},
   "outputs": [],
   "source": [
    "#library definitions\n",
    "import pandas as pd"
   ]
  },
  {
   "cell_type": "code",
   "execution_count": 50,
   "metadata": {
    "scrolled": true
   },
   "outputs": [
    {
     "name": "stdout",
     "output_type": "stream",
     "text": [
      "<class 'pandas.core.frame.DataFrame'>\n",
      "Int64Index: 9742 entries, 1 to 193609\n",
      "Data columns (total 2 columns):\n",
      " #   Column  Non-Null Count  Dtype \n",
      "---  ------  --------------  ----- \n",
      " 0   title   9742 non-null   object\n",
      " 1   genres  9742 non-null   object\n",
      "dtypes: object(2)\n",
      "memory usage: 228.3+ KB\n"
     ]
    }
   ],
   "source": [
    "df1 = pd.read_csv('movielense\\\\ml-latest-small\\\\movies.csv', index_col=0)\n",
    "#df1.head()\n",
    "df1.info()\n",
    "#df1.isnull().sum() #to confirm dataframe is clean of empty values"
   ]
  },
  {
   "cell_type": "code",
   "execution_count": 38,
   "metadata": {},
   "outputs": [
    {
     "data": {
      "text/plain": [
       "movieId      0\n",
       "rating       0\n",
       "timestamp    0\n",
       "dtype: int64"
      ]
     },
     "execution_count": 38,
     "metadata": {},
     "output_type": "execute_result"
    }
   ],
   "source": [
    "df2 = pd.read_csv('movielense\\\\ml-latest-small\\\\ratings.csv', index_col=0)\n",
    "#df2.head()\n",
    "#df2.info()\n",
    "df2.isnull().sum() #to confirm dataframe is clean of empty values"
   ]
  },
  {
   "cell_type": "code",
   "execution_count": 39,
   "metadata": {},
   "outputs": [
    {
     "data": {
      "text/plain": [
       "movieId      0\n",
       "tag          0\n",
       "timestamp    0\n",
       "dtype: int64"
      ]
     },
     "execution_count": 39,
     "metadata": {},
     "output_type": "execute_result"
    }
   ],
   "source": [
    "df3 = pd.read_csv('movielense\\\\ml-latest-small\\\\tags.csv', index_col=0)\n",
    "#df2.head()\n",
    "#df3.info()\n",
    "df3.isnull().sum() #to confirm dataframe is clean of empty values"
   ]
  },
  {
   "cell_type": "code",
   "execution_count": null,
   "metadata": {},
   "outputs": [],
   "source": [
    "#df4 = pd.read_csv('movielense\\\\\\\\genome-score.csv', index_col=0)\n",
    "#df4.head()\n",
    "#df4.info()"
   ]
  },
  {
   "cell_type": "code",
   "execution_count": null,
   "metadata": {},
   "outputs": [],
   "source": [
    "#df5 = pd.read_csv('movielense\\\\\\\\genome-tags.csv', index_col=0)\n",
    "#df5.head()\n",
    "#df5.info()"
   ]
  },
  {
   "cell_type": "code",
   "execution_count": null,
   "metadata": {},
   "outputs": [],
   "source": [
    "#categorizing genres and tags\n"
   ]
  },
  {
   "cell_type": "code",
   "execution_count": 51,
   "metadata": {},
   "outputs": [
    {
     "data": {
      "text/html": [
       "<div>\n",
       "<style scoped>\n",
       "    .dataframe tbody tr th:only-of-type {\n",
       "        vertical-align: middle;\n",
       "    }\n",
       "\n",
       "    .dataframe tbody tr th {\n",
       "        vertical-align: top;\n",
       "    }\n",
       "\n",
       "    .dataframe thead th {\n",
       "        text-align: right;\n",
       "    }\n",
       "</style>\n",
       "<table border=\"1\" class=\"dataframe\">\n",
       "  <thead>\n",
       "    <tr style=\"text-align: right;\">\n",
       "      <th></th>\n",
       "      <th>title</th>\n",
       "      <th>genres</th>\n",
       "    </tr>\n",
       "    <tr>\n",
       "      <th>movieId</th>\n",
       "      <th></th>\n",
       "      <th></th>\n",
       "    </tr>\n",
       "  </thead>\n",
       "  <tbody>\n",
       "    <tr>\n",
       "      <th>92008</th>\n",
       "      <td>Haywire (2011)</td>\n",
       "      <td>Action|Thriller</td>\n",
       "    </tr>\n",
       "    <tr>\n",
       "      <th>92046</th>\n",
       "      <td>Contact High (2009)</td>\n",
       "      <td>Comedy</td>\n",
       "    </tr>\n",
       "    <tr>\n",
       "      <th>92048</th>\n",
       "      <td>Whistleblower, The (2010)</td>\n",
       "      <td>Drama|Thriller</td>\n",
       "    </tr>\n",
       "    <tr>\n",
       "      <th>92094</th>\n",
       "      <td>Einstein and Eddington (2008)</td>\n",
       "      <td>Drama</td>\n",
       "    </tr>\n",
       "    <tr>\n",
       "      <th>92192</th>\n",
       "      <td>Apollo 18 (2011)</td>\n",
       "      <td>Horror|Sci-Fi|Thriller</td>\n",
       "    </tr>\n",
       "    <tr>\n",
       "      <th>...</th>\n",
       "      <td>...</td>\n",
       "      <td>...</td>\n",
       "    </tr>\n",
       "    <tr>\n",
       "      <th>193581</th>\n",
       "      <td>Black Butler: Book of the Atlantic (2017)</td>\n",
       "      <td>Action|Animation|Comedy|Fantasy</td>\n",
       "    </tr>\n",
       "    <tr>\n",
       "      <th>193583</th>\n",
       "      <td>No Game No Life: Zero (2017)</td>\n",
       "      <td>Animation|Comedy|Fantasy</td>\n",
       "    </tr>\n",
       "    <tr>\n",
       "      <th>193585</th>\n",
       "      <td>Flint (2017)</td>\n",
       "      <td>Drama</td>\n",
       "    </tr>\n",
       "    <tr>\n",
       "      <th>193587</th>\n",
       "      <td>Bungo Stray Dogs: Dead Apple (2018)</td>\n",
       "      <td>Action|Animation</td>\n",
       "    </tr>\n",
       "    <tr>\n",
       "      <th>193609</th>\n",
       "      <td>Andrew Dice Clay: Dice Rules (1991)</td>\n",
       "      <td>Comedy</td>\n",
       "    </tr>\n",
       "  </tbody>\n",
       "</table>\n",
       "<p>1948 rows × 2 columns</p>\n",
       "</div>"
      ],
      "text/plain": [
       "                                             title  \\\n",
       "movieId                                              \n",
       "92008                               Haywire (2011)   \n",
       "92046                          Contact High (2009)   \n",
       "92048                    Whistleblower, The (2010)   \n",
       "92094                Einstein and Eddington (2008)   \n",
       "92192                             Apollo 18 (2011)   \n",
       "...                                            ...   \n",
       "193581   Black Butler: Book of the Atlantic (2017)   \n",
       "193583                No Game No Life: Zero (2017)   \n",
       "193585                                Flint (2017)   \n",
       "193587         Bungo Stray Dogs: Dead Apple (2018)   \n",
       "193609         Andrew Dice Clay: Dice Rules (1991)   \n",
       "\n",
       "                                  genres  \n",
       "movieId                                   \n",
       "92008                    Action|Thriller  \n",
       "92046                             Comedy  \n",
       "92048                     Drama|Thriller  \n",
       "92094                              Drama  \n",
       "92192             Horror|Sci-Fi|Thriller  \n",
       "...                                  ...  \n",
       "193581   Action|Animation|Comedy|Fantasy  \n",
       "193583          Animation|Comedy|Fantasy  \n",
       "193585                             Drama  \n",
       "193587                  Action|Animation  \n",
       "193609                            Comedy  \n",
       "\n",
       "[1948 rows x 2 columns]"
      ]
     },
     "execution_count": 51,
     "metadata": {},
     "output_type": "execute_result"
    }
   ],
   "source": [
    "#splitting into training and testing\n",
    "n, d = df1.shape\n",
    "h1 = round(0.8 * n)\n",
    "h2 = n - h1\n",
    "df1h1 = df1.iloc[:h1]\n",
    "df1h2 = df1.iloc[h1:]\n",
    "df1h2"
   ]
  },
  {
   "cell_type": "code",
   "execution_count": null,
   "metadata": {},
   "outputs": [],
   "source": [
    "#when exporting\n",
    "#df.to_csv('movielense\\ml-latest-small-cleaned\\moviesclean.csv')"
   ]
  }
 ],
 "metadata": {
  "kernelspec": {
   "display_name": "Python 3",
   "language": "python",
   "name": "python3"
  },
  "language_info": {
   "codemirror_mode": {
    "name": "ipython",
    "version": 3
   },
   "file_extension": ".py",
   "mimetype": "text/x-python",
   "name": "python",
   "nbconvert_exporter": "python",
   "pygments_lexer": "ipython3",
   "version": "3.8.3"
  }
 },
 "nbformat": 4,
 "nbformat_minor": 4
}
